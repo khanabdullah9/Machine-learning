{
  "nbformat": 4,
  "nbformat_minor": 0,
  "metadata": {
    "colab": {
      "provenance": []
    },
    "kernelspec": {
      "name": "python3",
      "display_name": "Python 3"
    },
    "language_info": {
      "name": "python"
    }
  },
  "cells": [
    {
      "cell_type": "code",
      "execution_count": null,
      "metadata": {
        "id": "BNtdI46UlMrz"
      },
      "outputs": [],
      "source": [
        "import numpy as np\n",
        "import pandas as pd\n",
        "import tensorflow as tf\n",
        "import statsmodels.api as sm\n",
        "import statistics as st\n",
        "from tensorflow import keras"
      ]
    },
    {
      "cell_type": "code",
      "source": [
        "ha = pd.read_csv(\"/content/Heart Attack.csv\")\n",
        "ha.head(2)"
      ],
      "metadata": {
        "id": "HsYPltdnlilX"
      },
      "execution_count": null,
      "outputs": []
    },
    {
      "cell_type": "code",
      "source": [
        "print(ha.shape)\n",
        "print(ha.columns)"
      ],
      "metadata": {
        "id": "4KDv1Brulpge"
      },
      "execution_count": null,
      "outputs": []
    },
    {
      "cell_type": "code",
      "source": [
        "ha['age'] = ha['age'].astype(float)\n",
        "ha['gender'] = ha['gender'].astype(float)\n",
        "ha['impluse'] = ha['impluse'].astype(float)\n",
        "ha['pressurehight'] = ha['pressurehight'].astype(float)\n",
        "ha['pressurelow'] = ha['pressurelow'].astype(float)\n",
        "ha['glucose'] = ha['glucose'].astype(float)\n",
        "ha['kcm'] = ha['kcm'].astype(float)\n",
        "ha['troponin'] = ha['troponin'].astype(float)"
      ],
      "metadata": {
        "id": "Rjrvwb00uL5b"
      },
      "execution_count": null,
      "outputs": []
    },
    {
      "cell_type": "code",
      "source": [
        "pos = ha.loc[ha['class'] == 'positive', 'troponin']\n",
        "neg = ha.loc[ha['class'] == 'negative', 'troponin']"
      ],
      "metadata": {
        "id": "8y_k3nkhqbJz"
      },
      "execution_count": null,
      "outputs": []
    },
    {
      "cell_type": "markdown",
      "source": [
        "Train - test splitting"
      ],
      "metadata": {
        "id": "cMFB3efnXZg2"
      }
    },
    {
      "cell_type": "code",
      "source": [
        "percentile_80 = int(ha.shape[0] * 0.8)\n",
        "#features\n",
        "train_x = ha[0:percentile_80]\n",
        "test_x = ha[percentile_80:]\n",
        "#labels\n",
        "train_y = train_x.pop('class')\n",
        "test_y = test_x.pop('class')"
      ],
      "metadata": {
        "id": "HiQWvwVysDOy"
      },
      "execution_count": null,
      "outputs": []
    },
    {
      "cell_type": "code",
      "source": [
        "print(train_x.shape)\n",
        "print(test_x.shape)\n",
        "print(train_y.shape)\n",
        "print(test_y.shape)"
      ],
      "metadata": {
        "id": "EXdGi4wEvPhj"
      },
      "execution_count": null,
      "outputs": []
    },
    {
      "cell_type": "markdown",
      "source": [
        "Converting string categorical variable to numeric"
      ],
      "metadata": {
        "id": "HXCaUni9Xfrk"
      }
    },
    {
      "cell_type": "code",
      "source": [
        "train_y.replace({'negative': 0, 'positive': 1}, inplace=True)\n",
        "test_y.replace({'negative': 0, 'positive': 1}, inplace=True)"
      ],
      "metadata": {
        "id": "hev_fD2_R-hJ"
      },
      "execution_count": null,
      "outputs": []
    },
    {
      "cell_type": "code",
      "source": [
        "test_y.dtypes"
      ],
      "metadata": {
        "colab": {
          "base_uri": "https://localhost:8080/"
        },
        "id": "7vh2qBzpSDWC",
        "outputId": "7b497057-59d7-425b-f011-b4ff1e2a14f6"
      },
      "execution_count": null,
      "outputs": [
        {
          "output_type": "execute_result",
          "data": {
            "text/plain": [
              "dtype('int64')"
            ]
          },
          "metadata": {},
          "execution_count": 94
        }
      ]
    },
    {
      "cell_type": "code",
      "source": [
        "X = sm.add_constant(train_x)"
      ],
      "metadata": {
        "id": "GK-u3BXvs7j0"
      },
      "execution_count": null,
      "outputs": []
    },
    {
      "cell_type": "markdown",
      "source": [
        "After fitting the model for the first time implue, pressureheight, pressurelow, glucose we judged insignificant"
      ],
      "metadata": {
        "id": "pSM57mD4S1Zw"
      }
    },
    {
      "cell_type": "code",
      "source": [
        "# X.pop('impluse')\n",
        "# X.pop('pressurehight')\n",
        "# X.pop('pressurelow')\n",
        "# X.pop('glucose')"
      ],
      "metadata": {
        "id": "J69RXtBxS0gC"
      },
      "execution_count": null,
      "outputs": []
    },
    {
      "cell_type": "code",
      "source": [
        "model = sm.Logit(train_y, X).fit()"
      ],
      "metadata": {
        "id": "6hsNc8o7tUDf"
      },
      "execution_count": null,
      "outputs": []
    },
    {
      "cell_type": "code",
      "source": [
        "print(model.summary())"
      ],
      "metadata": {
        "id": "TsU21kJJSM8c"
      },
      "execution_count": null,
      "outputs": []
    },
    {
      "cell_type": "code",
      "source": [
        "test_data = sm.add_constant(test_x)"
      ],
      "metadata": {
        "id": "IqE4npLJTtJl"
      },
      "execution_count": null,
      "outputs": []
    },
    {
      "cell_type": "code",
      "source": [
        "# test_data.pop('impluse')\n",
        "# test_data.pop('pressurehight')\n",
        "# test_data.pop('pressurelow')\n",
        "# test_data.pop('glucose')"
      ],
      "metadata": {
        "id": "eifQQEkNUOJU"
      },
      "execution_count": null,
      "outputs": []
    },
    {
      "cell_type": "code",
      "source": [
        "predictions = model.predict(test_data)"
      ],
      "metadata": {
        "id": "0nSYXBUcTn4z"
      },
      "execution_count": null,
      "outputs": []
    },
    {
      "cell_type": "code",
      "source": [
        "outcome = test_data\n",
        "outcome['P of CVD'] = predictions"
      ],
      "metadata": {
        "id": "C8zKZ-inUeaS"
      },
      "execution_count": null,
      "outputs": []
    },
    {
      "cell_type": "code",
      "source": [
        "outcome"
      ],
      "metadata": {
        "id": "yDd7bzrJUqou"
      },
      "execution_count": null,
      "outputs": []
    },
    {
      "cell_type": "markdown",
      "source": [
        "# Using Neural Networks"
      ],
      "metadata": {
        "id": "fOAmwEjCX_Y5"
      }
    },
    {
      "cell_type": "code",
      "source": [
        "nn = keras.Sequential()\n",
        "nn.add(keras.layers.Dense(64, activation='relu', input_shape=(train_x.shape[1],)))\n",
        "nn.add(keras.layers.Dense(32, activation='relu'))\n",
        "nn.add(keras.layers.Dense(1, activation='sigmoid'))"
      ],
      "metadata": {
        "id": "wvy9zJMYaX4A"
      },
      "execution_count": null,
      "outputs": []
    },
    {
      "cell_type": "code",
      "source": [
        "nn.compile(optimizer='adam', loss='binary_crossentropy', metrics=['accuracy'])"
      ],
      "metadata": {
        "id": "PAGUmW70a-pZ"
      },
      "execution_count": null,
      "outputs": []
    },
    {
      "cell_type": "code",
      "source": [
        "nn.fit(train_x, train_y, epochs = 10, batch_size = 32)"
      ],
      "metadata": {
        "id": "gQg4X4zsbJA3",
        "outputId": "171f7709-ea05-4c85-c795-2c93e4414125",
        "colab": {
          "base_uri": "https://localhost:8080/",
          "height": 176
        }
      },
      "execution_count": null,
      "outputs": [
        {
          "output_type": "error",
          "ename": "NameError",
          "evalue": "ignored",
          "traceback": [
            "\u001b[0;31m---------------------------------------------------------------------------\u001b[0m",
            "\u001b[0;31mNameError\u001b[0m                                 Traceback (most recent call last)",
            "\u001b[0;32m<ipython-input-1-af831b3a6496>\u001b[0m in \u001b[0;36m<cell line: 1>\u001b[0;34m()\u001b[0m\n\u001b[0;32m----> 1\u001b[0;31m \u001b[0mnn\u001b[0m\u001b[0;34m.\u001b[0m\u001b[0mfit\u001b[0m\u001b[0;34m(\u001b[0m\u001b[0mtrain_x\u001b[0m\u001b[0;34m,\u001b[0m \u001b[0mtrain_y\u001b[0m\u001b[0;34m,\u001b[0m \u001b[0mepochs\u001b[0m \u001b[0;34m=\u001b[0m \u001b[0;36m10\u001b[0m\u001b[0;34m,\u001b[0m \u001b[0mbatch_size\u001b[0m \u001b[0;34m=\u001b[0m \u001b[0;36m32\u001b[0m\u001b[0;34m)\u001b[0m\u001b[0;34m\u001b[0m\u001b[0;34m\u001b[0m\u001b[0m\n\u001b[0m",
            "\u001b[0;31mNameError\u001b[0m: name 'nn' is not defined"
          ]
        }
      ]
    },
    {
      "cell_type": "code",
      "source": [
        "# test_x.pop('Response')"
      ],
      "metadata": {
        "id": "82lfP3etefL3"
      },
      "execution_count": null,
      "outputs": []
    },
    {
      "cell_type": "code",
      "source": [
        "x, test_acc = nn.evaluate(test_x, test_y, verbose=1)"
      ],
      "metadata": {
        "id": "AKDc5fCAch7y"
      },
      "execution_count": null,
      "outputs": []
    },
    {
      "cell_type": "code",
      "source": [
        "round(test_acc, 2)"
      ],
      "metadata": {
        "colab": {
          "base_uri": "https://localhost:8080/"
        },
        "id": "9NUTG56IeHln",
        "outputId": "9cd1b8f1-b811-4f38-b379-8444e41d43cd"
      },
      "execution_count": null,
      "outputs": [
        {
          "output_type": "execute_result",
          "data": {
            "text/plain": [
              "0.75"
            ]
          },
          "metadata": {},
          "execution_count": 21
        }
      ]
    },
    {
      "cell_type": "code",
      "source": [
        "predictions = nn.predict(test_x)"
      ],
      "metadata": {
        "colab": {
          "base_uri": "https://localhost:8080/"
        },
        "id": "kbLe6iuocIyd",
        "outputId": "7001176d-4eee-4a38-d6d3-f79cecbe162d"
      },
      "execution_count": null,
      "outputs": [
        {
          "output_type": "stream",
          "name": "stdout",
          "text": [
            "9/9 [==============================] - 0s 2ms/step\n"
          ]
        }
      ]
    },
    {
      "cell_type": "code",
      "source": [],
      "metadata": {
        "id": "Q_lwEgPs213o"
      },
      "execution_count": null,
      "outputs": []
    }
  ]
}