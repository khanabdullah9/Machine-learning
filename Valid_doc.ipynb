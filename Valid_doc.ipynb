{
  "nbformat": 4,
  "nbformat_minor": 0,
  "metadata": {
    "colab": {
      "provenance": []
    },
    "kernelspec": {
      "name": "python3",
      "display_name": "Python 3"
    },
    "language_info": {
      "name": "python"
    }
  },
  "cells": [
    {
      "cell_type": "code",
      "execution_count": 59,
      "metadata": {
        "id": "Z73-ngtgEQZU"
      },
      "outputs": [],
      "source": [
        "import numpy as np\n",
        "import pandas as pd\n",
        "import matplotlib.pyplot as plt\n",
        "import tensorflow as tf\n",
        "from tensorflow.keras import models, layers\n",
        "from IPython.display import clear_output\n",
        "import cv2\n",
        "import random"
      ]
    },
    {
      "cell_type": "code",
      "source": [
        "new_width = new_height = 300"
      ],
      "metadata": {
        "id": "B2XZ619gG8X3"
      },
      "execution_count": 39,
      "outputs": []
    },
    {
      "cell_type": "markdown",
      "source": [
        "Train images"
      ],
      "metadata": {
        "id": "dPLNUvY7aD0t"
      }
    },
    {
      "cell_type": "code",
      "source": [
        "a1 = cv2.imread(\"/content/a1.jpg\")\n",
        "a1 = cv2.resize(a1, (new_width, new_height))\n",
        "a2 = cv2.imread(\"/content/a2.jpg\")\n",
        "a2 = cv2.resize(a2, (new_width, new_height))\n",
        "a3 = cv2.imread(\"/content/a3.jpg\")\n",
        "a3 = cv2.resize(a3, (new_width, new_height))\n",
        "a4 = cv2.imread(\"/content/a4.jpg\")\n",
        "a4 = cv2.resize(a4, (new_width, new_height))\n",
        "a5 = cv2.imread(\"/content/a5.jpg\")\n",
        "a5 = cv2.resize(a5, (new_width, new_height))\n",
        "a6 = cv2.imread(\"/content/a6.jpg\")\n",
        "a6 = cv2.resize(a6, (new_width, new_height))\n",
        "af = cv2.imread(\"/content/af.jpg\")\n",
        "af = cv2.resize(af, (new_width, new_height))"
      ],
      "metadata": {
        "id": "SiwacozCEwsw"
      },
      "execution_count": 75,
      "outputs": []
    },
    {
      "cell_type": "code",
      "source": [
        "p1 = cv2.imread(\"/content/p1.jpg\")\n",
        "p1 = cv2.resize(p1, (new_width, new_height))\n",
        "p2 = cv2.imread(\"/content/p2.jpg\")\n",
        "p2 = cv2.resize(p2, (new_width, new_height))\n",
        "p4 = cv2.imread(\"/content/p4.jpg\")\n",
        "p4 = cv2.resize(p4, (new_width, new_height))\n",
        "p7 = cv2.imread(\"/content/p7.jpg\")\n",
        "p7 = cv2.resize(p7, (new_width, new_height))\n",
        "p8 = cv2.imread(\"/content/p8.jpg\")\n",
        "p8 = cv2.resize(p8, (new_width, new_height))"
      ],
      "metadata": {
        "id": "rld_KWggJA1C"
      },
      "execution_count": 103,
      "outputs": []
    },
    {
      "cell_type": "code",
      "source": [
        "train_imgs = np.array([a1,p1,a2,p2,a3,p4,a4,p7,a5,p8,a6,af])\n",
        "train_lbls = np.array([0,1,0,1,0,1,0,1,0,1,0,0])"
      ],
      "metadata": {
        "id": "5iaz4LqiJ6mQ"
      },
      "execution_count": 88,
      "outputs": []
    },
    {
      "cell_type": "markdown",
      "source": [
        "Test images"
      ],
      "metadata": {
        "id": "quGc-kMKaHxT"
      }
    },
    {
      "cell_type": "code",
      "source": [
        "my_a = cv2.imread(\"/content/my_aadhar.jpg\")\n",
        "my_a = cv2.resize(my_a, (new_width, new_height))\n",
        "my_p = cv2.imread(\"/content/my_pan.jpg\")\n",
        "my_p = cv2.resize(my_p, (new_width, new_height))"
      ],
      "metadata": {
        "id": "46fLj77DWq8Y"
      },
      "execution_count": 124,
      "outputs": []
    },
    {
      "cell_type": "code",
      "source": [
        "test_imgs = np.array([my_a, my_p])\n",
        "test_lbls = np.array([0,1])"
      ],
      "metadata": {
        "id": "o5PAtpHMW2q6"
      },
      "execution_count": 125,
      "outputs": []
    },
    {
      "cell_type": "code",
      "source": [
        "class_names = np.array(['Aadhar','Pancard'])"
      ],
      "metadata": {
        "id": "aECqJC_QLLB1"
      },
      "execution_count": 43,
      "outputs": []
    },
    {
      "cell_type": "markdown",
      "source": [
        "# Convolutional Neural Network"
      ],
      "metadata": {
        "id": "dgmO3ze-aKmm"
      }
    },
    {
      "cell_type": "code",
      "source": [
        "model = tf.keras.Sequential([\n",
        "    layers.Conv2D(32, (3,3), activation = 'relu', input_shape = (300,300,3)),\n",
        "    layers.BatchNormalization(),\n",
        "    layers.MaxPooling2D((2,2)),\n",
        "    layers.Dropout(0.25),\n",
        "\n",
        "    layers.Conv2D(64, (3,3), activation = 'relu'),\n",
        "    layers.BatchNormalization(),\n",
        "    layers.MaxPooling2D((2,2)),\n",
        "    layers.Dropout(0.25),\n",
        "\n",
        "    layers.Conv2D(128, (3,3), activation = 'relu'),\n",
        "    layers.BatchNormalization(),\n",
        "    layers.MaxPooling2D((2,2)),\n",
        "\n",
        "\n",
        "    layers.Flatten(),\n",
        "    layers.Dense(64, activation = 'relu'),\n",
        "    layers.Dense(2, activation = 'softmax')\n",
        "])"
      ],
      "metadata": {
        "id": "cn7yfy6XK2FX"
      },
      "execution_count": 70,
      "outputs": []
    },
    {
      "cell_type": "code",
      "source": [
        "model.compile(optimizer = 'adam',loss = 'sparse_categorical_crossentropy',metrics = ['accuracy'])"
      ],
      "metadata": {
        "id": "Ua6VYldXK4MC"
      },
      "execution_count": 71,
      "outputs": []
    },
    {
      "cell_type": "code",
      "source": [
        "model.fit(train_imgs, train_lbls, epochs = 5)"
      ],
      "metadata": {
        "colab": {
          "base_uri": "https://localhost:8080/"
        },
        "id": "auAmWKZVLSoq",
        "outputId": "aa0b4c7b-49bf-44c2-a828-d3372f8421f7"
      },
      "execution_count": 89,
      "outputs": [
        {
          "output_type": "stream",
          "name": "stdout",
          "text": [
            "Epoch 1/5\n",
            "1/1 [==============================] - 4s 4s/step - loss: 28.4654 - accuracy: 0.9167\n",
            "Epoch 2/5\n",
            "1/1 [==============================] - 4s 4s/step - loss: 11.8326 - accuracy: 0.9167\n",
            "Epoch 3/5\n",
            "1/1 [==============================] - 3s 3s/step - loss: 0.0000e+00 - accuracy: 1.0000\n",
            "Epoch 4/5\n",
            "1/1 [==============================] - 3s 3s/step - loss: 0.0000e+00 - accuracy: 1.0000\n",
            "Epoch 5/5\n",
            "1/1 [==============================] - 5s 5s/step - loss: 3.4180 - accuracy: 0.9167\n"
          ]
        },
        {
          "output_type": "execute_result",
          "data": {
            "text/plain": [
              "<keras.callbacks.History at 0x7c9eeb94d7b0>"
            ]
          },
          "metadata": {},
          "execution_count": 89
        }
      ]
    },
    {
      "cell_type": "code",
      "source": [
        "loss, acc = model.evaluate(train_imgs[0:train_imgs.shape[0]], train_lbls[0:train_lbls.shape[0]], verbose = 1)\n",
        "print(acc)"
      ],
      "metadata": {
        "colab": {
          "base_uri": "https://localhost:8080/"
        },
        "id": "tq_gvKxrRt_I",
        "outputId": "e00fc90e-2e55-461e-fe47-663d619a3c9a"
      },
      "execution_count": 90,
      "outputs": [
        {
          "output_type": "stream",
          "name": "stdout",
          "text": [
            "1/1 [==============================] - 1s 805ms/step - loss: 0.0000e+00 - accuracy: 1.0000\n",
            "1.0\n"
          ]
        }
      ]
    },
    {
      "cell_type": "markdown",
      "source": [
        "Making predictions on the training images"
      ],
      "metadata": {
        "id": "rCAgw0_SaSUp"
      }
    },
    {
      "cell_type": "code",
      "source": [
        "predictions = model.predict(train_imgs)"
      ],
      "metadata": {
        "colab": {
          "base_uri": "https://localhost:8080/"
        },
        "id": "pMFnhBjwSIQF",
        "outputId": "a5fbe6bc-84e1-417a-c813-418a05113e9b"
      },
      "execution_count": 91,
      "outputs": [
        {
          "output_type": "stream",
          "name": "stdout",
          "text": [
            "1/1 [==============================] - 1s 833ms/step\n"
          ]
        }
      ]
    },
    {
      "cell_type": "markdown",
      "source": [
        "Making predictions on the test images"
      ],
      "metadata": {
        "id": "VX3n1wbaaU4l"
      }
    },
    {
      "cell_type": "code",
      "source": [
        "pred = model.predict(test_imgs)"
      ],
      "metadata": {
        "colab": {
          "base_uri": "https://localhost:8080/"
        },
        "id": "YToMoQ5kW-2T",
        "outputId": "db1188b9-be1b-4c31-e0ab-8ce773303780"
      },
      "execution_count": 126,
      "outputs": [
        {
          "output_type": "stream",
          "name": "stdout",
          "text": [
            "1/1 [==============================] - 0s 131ms/step\n"
          ]
        }
      ]
    },
    {
      "cell_type": "code",
      "source": [
        "def play():\n",
        "  for n in range(0, test_imgs.shape[0]):\n",
        "    print(f\"Predicted: {class_names[np.argmax(pred[n])]}\")\n",
        "    if test_lbls[n] == 0:\n",
        "      print(f\"Actual: Aadhar\")\n",
        "    else:\n",
        "      print(f\"Actual: Pancard\")\n",
        "    print(\"=\"*20)"
      ],
      "metadata": {
        "id": "MCiTDhGLVBqv"
      },
      "execution_count": 108,
      "outputs": []
    },
    {
      "cell_type": "code",
      "source": [
        "play()"
      ],
      "metadata": {
        "colab": {
          "base_uri": "https://localhost:8080/"
        },
        "id": "VUJICSAnVihA",
        "outputId": "aaa59cc2-aedc-4b8f-dacb-0d1e549a97af"
      },
      "execution_count": 129,
      "outputs": [
        {
          "output_type": "stream",
          "name": "stdout",
          "text": [
            "Predicted: Aadhar\n",
            "Actual: Aadhar\n",
            "====================\n",
            "Predicted: Pancard\n",
            "Actual: Pancard\n",
            "====================\n"
          ]
        }
      ]
    }
  ]
}